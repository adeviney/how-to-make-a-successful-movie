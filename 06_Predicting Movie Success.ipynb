{
 "cells": [
  {
   "cell_type": "markdown",
   "id": "8627152a",
   "metadata": {},
   "source": [
    "# Predicting Movie Success\n",
    "\n",
    "*For part 5 of the project, you will be applying your Linear Regression knowledge to create a Linear Regression model that meets the 4 assumptions of Linear Regression. Additionally, you will then use your model's results to make 3 recommendations for your stakeholder on how to create a successful movie.*\n",
    "\n",
    "* While this part of the project is optional and not graded, it would be a fantastic piece for your portfolio!\n",
    "\n",
    "    - Note: predicting revenue is the most obvious target for describing \"success\", the average rating is also a logical choice that meets your stakeholder's request.\n",
    "    \n",
    "## Specifications\n",
    "* You should test your linear regression model for all 4 assumptions.\n",
    "* You should show an iterative modeling process (keep multiple models in the final notebook, showing the improvement in performance/assumptions.\n",
    "* You should use the coefficients from your model to create 3 recommendations on how to make a successful movie.\n",
    "\n",
    "## Deliverables\n",
    "* You should use the same project repository you have been using for Parts 1-5 (for your portfolio).\n",
    "* Create a new notebook in your project repository just for the hypothesis testing (like \"Part 5 - Predictive Models.ipynb\" or \"Part 5 - Linear Regression Models.ipynb\" )\n",
    "* You should make a short presentation summarizing your findings and recommendations, and include visualizations to support each recommendation.\n",
    "\n",
    "\n",
    "Please submit the link to your GitHub repository for this assignment and reach out to your instructor on Discord or via email if you would like to get feedback on your project."
   ]
  }
 ],
 "metadata": {
  "kernelspec": {
   "display_name": "Python (dojo-env)",
   "language": "python",
   "name": "dojo-env"
  },
  "language_info": {
   "codemirror_mode": {
    "name": "ipython",
    "version": 3
   },
   "file_extension": ".py",
   "mimetype": "text/x-python",
   "name": "python",
   "nbconvert_exporter": "python",
   "pygments_lexer": "ipython3",
   "version": "3.7.12"
  },
  "toc": {
   "base_numbering": 1,
   "nav_menu": {},
   "number_sections": true,
   "sideBar": true,
   "skip_h1_title": false,
   "title_cell": "Table of Contents",
   "title_sidebar": "Contents",
   "toc_cell": false,
   "toc_position": {},
   "toc_section_display": true,
   "toc_window_display": false
  }
 },
 "nbformat": 4,
 "nbformat_minor": 5
}
