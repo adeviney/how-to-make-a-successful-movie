{
 "cells": [
  {
   "cell_type": "markdown",
   "id": "d45d430f",
   "metadata": {},
   "source": [
    "# The Data\n",
    "\n",
    "IMDB Provides Several Files with varied information for Movies, TV Shows, Made for TV Movies, etc.\n",
    "\n",
    "- Overview/Data Dictionary: https://www.imdb.com/interfaces/\n",
    "- Downloads page: https://datasets.imdbws.com/\n",
    "\n",
    "I will be focusing on the following files:\n",
    "\n",
    "- title.basics.tsv.gz\n",
    "- title.ratings.tsv.gz\n",
    "- title.akas.tsv.gz\n",
    "\n",
    "My stakeholder only wants me to include information for movies based on the following specifications:\n",
    "\n",
    "- Exclude any movie with missing values for genre or runtime\n",
    "- Include only full-length movies (titleType = \"movie\").\n",
    "- Include only fictional movies (not from documentary genre)\n",
    "- Include only movies that were released 2000 - 2021 (include 2000 and 2021)\n",
    "- Include only movies that were released in the United States\n",
    "\n",
    "\n",
    "Each dataset is contained in a gzipped, tab-separated-values (TSV) formatted file in the UTF-8 character set."
   ]
  },
  {
   "cell_type": "code",
   "execution_count": 1,
   "id": "e39d84f3",
   "metadata": {},
   "outputs": [],
   "source": [
    "import pandas as pd\n",
    "import numpy as np"
   ]
  },
  {
   "cell_type": "code",
   "execution_count": 2,
   "id": "7fbf1566",
   "metadata": {},
   "outputs": [],
   "source": [
    "basics_url = 'https://datasets.imdbws.com/title.basics.tsv.gz'\n",
    "ratings_url = 'https://datasets.imdbws.com/title.ratings.tsv.gz'\n",
    "akas_url = 'https://datasets.imdbws.com/title.akas.tsv.gz'"
   ]
  },
  {
   "cell_type": "code",
   "execution_count": 3,
   "id": "8d196779",
   "metadata": {},
   "outputs": [],
   "source": [
    "basics = pd.read_csv(basics_url,sep='\\t', low_memory=False)"
   ]
  },
  {
   "cell_type": "code",
   "execution_count": 4,
   "id": "dacd0db5",
   "metadata": {},
   "outputs": [],
   "source": [
    "ratings = pd.read_csv(ratings_url,sep='\\t', low_memory=False)"
   ]
  },
  {
   "cell_type": "code",
   "execution_count": 5,
   "id": "c2c25be2",
   "metadata": {},
   "outputs": [],
   "source": [
    "akas = pd.read_csv(akas_url,sep='\\t', low_memory=False)"
   ]
  },
  {
   "cell_type": "markdown",
   "id": "8460e0a6",
   "metadata": {},
   "source": [
    "**Changing null value encoding from `\\N` to `np.nan`**"
   ]
  },
  {
   "cell_type": "code",
   "execution_count": 6,
   "id": "90e593eb",
   "metadata": {},
   "outputs": [],
   "source": [
    "basics = basics.replace({'\\\\N':np.nan})\n",
    "ratings = ratings.replace({'\\\\N':np.nan}) \n",
    "akas = akas.replace({'\\\\N':np.nan}) "
   ]
  },
  {
   "cell_type": "markdown",
   "id": "212efb8c",
   "metadata": {},
   "source": [
    "**Eliminate movies that are null for `runtimeMinutes` `genres`, and `startYear`**"
   ]
  },
  {
   "cell_type": "code",
   "execution_count": 7,
   "id": "1de57453",
   "metadata": {
    "scrolled": true
   },
   "outputs": [],
   "source": [
    "basics = basics.dropna(subset = ['runtimeMinutes', 'genres', 'startYear'])"
   ]
  },
  {
   "cell_type": "markdown",
   "id": "acb79286",
   "metadata": {},
   "source": [
    "**Include only movies that were released 2000 - 2021 (include 2000 and 2021)**"
   ]
  },
  {
   "cell_type": "code",
   "execution_count": 8,
   "id": "90f0c4c4",
   "metadata": {},
   "outputs": [],
   "source": [
    "basics['startYear'] = basics['startYear'].astype(int)"
   ]
  },
  {
   "cell_type": "code",
   "execution_count": 9,
   "id": "8ba96847",
   "metadata": {},
   "outputs": [],
   "source": [
    "basics = basics.loc[(basics['startYear'] >= 2000) & (basics['startYear'] <= 2021)]"
   ]
  },
  {
   "cell_type": "markdown",
   "id": "e888103a",
   "metadata": {},
   "source": [
    "**Include only full-length movies (titleType = \"movie\").**"
   ]
  },
  {
   "cell_type": "code",
   "execution_count": 10,
   "id": "558f6c11",
   "metadata": {},
   "outputs": [],
   "source": [
    "basics = basics.loc[basics['titleType'] == 'movie']"
   ]
  },
  {
   "cell_type": "markdown",
   "id": "2b3d3887",
   "metadata": {},
   "source": [
    "**Include only fictional movies (not from documentary genre)**"
   ]
  },
  {
   "cell_type": "code",
   "execution_count": 11,
   "id": "c05d1eb5",
   "metadata": {},
   "outputs": [],
   "source": [
    "is_documentary = basics['genres'].str.contains('documentary',case=False)\n",
    "basics = basics[~is_documentary]"
   ]
  },
  {
   "cell_type": "markdown",
   "id": "d964b59e",
   "metadata": {},
   "source": [
    "**Update AKAs dataframe to eliminate the movies eliminated from basics**"
   ]
  },
  {
   "cell_type": "code",
   "execution_count": 12,
   "id": "d88b6520",
   "metadata": {},
   "outputs": [
    {
     "data": {
      "text/plain": [
       "(31737449, 8)"
      ]
     },
     "execution_count": 12,
     "metadata": {},
     "output_type": "execute_result"
    }
   ],
   "source": [
    "akas.shape"
   ]
  },
  {
   "cell_type": "code",
   "execution_count": 13,
   "id": "a56532df",
   "metadata": {},
   "outputs": [],
   "source": [
    "akas = akas.loc[akas['titleId'].isin(basics['tconst'])]"
   ]
  },
  {
   "cell_type": "markdown",
   "id": "67586537",
   "metadata": {},
   "source": [
    "**Keep only movies released in the US**"
   ]
  },
  {
   "cell_type": "code",
   "execution_count": 15,
   "id": "b5dc3a70",
   "metadata": {},
   "outputs": [],
   "source": [
    "usAKAs = akas.loc[akas['region'] == 'US']"
   ]
  },
  {
   "cell_type": "code",
   "execution_count": 16,
   "id": "ddbfae93",
   "metadata": {},
   "outputs": [],
   "source": [
    "basics = basics.loc[basics['tconst'].isin(usAKAs['titleId'])]"
   ]
  },
  {
   "cell_type": "code",
   "execution_count": 18,
   "id": "91011894",
   "metadata": {},
   "outputs": [],
   "source": [
    "ratings = ratings.loc[ratings['tconst'].isin(basics['tconst'])]"
   ]
  },
  {
   "cell_type": "code",
   "execution_count": 19,
   "id": "1abe887b",
   "metadata": {},
   "outputs": [
    {
     "data": {
      "text/plain": [
       "['akas.csv', 'ratings.csv', 'title_basics.csv']"
      ]
     },
     "execution_count": 19,
     "metadata": {},
     "output_type": "execute_result"
    }
   ],
   "source": [
    "import os\n",
    "os.makedirs('Data/',exist_ok=True) \n",
    "# Confirm folder created\n",
    "os.listdir(\"Data/\")"
   ]
  },
  {
   "cell_type": "code",
   "execution_count": 20,
   "id": "9d3b5837",
   "metadata": {},
   "outputs": [],
   "source": [
    "basics.to_csv(\"Data/basics.csv\", index = False)"
   ]
  },
  {
   "cell_type": "code",
   "execution_count": 21,
   "id": "c043deb0",
   "metadata": {},
   "outputs": [],
   "source": [
    "ratings.to_csv(\"Data/ratings.csv\", index = False)"
   ]
  },
  {
   "cell_type": "code",
   "execution_count": 22,
   "id": "5c836c4c",
   "metadata": {},
   "outputs": [],
   "source": [
    "usAKAs.to_csv(\"Data/akas.csv\", index = False)"
   ]
  },
  {
   "cell_type": "code",
   "execution_count": 23,
   "id": "7af30795",
   "metadata": {},
   "outputs": [],
   "source": [
    "## Save dataframes to Compressed .csv.gz files\n",
    "basics.to_csv(\"Data/basics.csv.gz\",compression='gzip',index=False)\n",
    "ratings.to_csv(\"Data/ratings.csv.gz\",compression='gzip',index=False)\n",
    "usAKAs.to_csv(\"Data/akas.csv.gz\",compression='gzip',index=False)"
   ]
  },
  {
   "cell_type": "code",
   "execution_count": 25,
   "id": "9be4c2db",
   "metadata": {},
   "outputs": [
    {
     "data": {
      "text/html": [
       "<div>\n",
       "<style scoped>\n",
       "    .dataframe tbody tr th:only-of-type {\n",
       "        vertical-align: middle;\n",
       "    }\n",
       "\n",
       "    .dataframe tbody tr th {\n",
       "        vertical-align: top;\n",
       "    }\n",
       "\n",
       "    .dataframe thead th {\n",
       "        text-align: right;\n",
       "    }\n",
       "</style>\n",
       "<table border=\"1\" class=\"dataframe\">\n",
       "  <thead>\n",
       "    <tr style=\"text-align: right;\">\n",
       "      <th></th>\n",
       "      <th>tconst</th>\n",
       "      <th>titleType</th>\n",
       "      <th>primaryTitle</th>\n",
       "      <th>originalTitle</th>\n",
       "      <th>isAdult</th>\n",
       "      <th>startYear</th>\n",
       "      <th>endYear</th>\n",
       "      <th>runtimeMinutes</th>\n",
       "      <th>genres</th>\n",
       "    </tr>\n",
       "  </thead>\n",
       "  <tbody>\n",
       "    <tr>\n",
       "      <th>0</th>\n",
       "      <td>tt0035423</td>\n",
       "      <td>movie</td>\n",
       "      <td>Kate &amp; Leopold</td>\n",
       "      <td>Kate &amp; Leopold</td>\n",
       "      <td>0</td>\n",
       "      <td>2001</td>\n",
       "      <td>NaN</td>\n",
       "      <td>118</td>\n",
       "      <td>Comedy,Fantasy,Romance</td>\n",
       "    </tr>\n",
       "    <tr>\n",
       "      <th>1</th>\n",
       "      <td>tt0062336</td>\n",
       "      <td>movie</td>\n",
       "      <td>The Tango of the Widower and Its Distorting Mi...</td>\n",
       "      <td>El Tango del Viudo y Su Espejo Deformante</td>\n",
       "      <td>0</td>\n",
       "      <td>2020</td>\n",
       "      <td>NaN</td>\n",
       "      <td>70</td>\n",
       "      <td>Drama</td>\n",
       "    </tr>\n",
       "    <tr>\n",
       "      <th>2</th>\n",
       "      <td>tt0069049</td>\n",
       "      <td>movie</td>\n",
       "      <td>The Other Side of the Wind</td>\n",
       "      <td>The Other Side of the Wind</td>\n",
       "      <td>0</td>\n",
       "      <td>2018</td>\n",
       "      <td>NaN</td>\n",
       "      <td>122</td>\n",
       "      <td>Drama</td>\n",
       "    </tr>\n",
       "    <tr>\n",
       "      <th>3</th>\n",
       "      <td>tt0088751</td>\n",
       "      <td>movie</td>\n",
       "      <td>The Naked Monster</td>\n",
       "      <td>The Naked Monster</td>\n",
       "      <td>0</td>\n",
       "      <td>2005</td>\n",
       "      <td>NaN</td>\n",
       "      <td>100</td>\n",
       "      <td>Comedy,Horror,Sci-Fi</td>\n",
       "    </tr>\n",
       "    <tr>\n",
       "      <th>4</th>\n",
       "      <td>tt0093119</td>\n",
       "      <td>movie</td>\n",
       "      <td>Grizzly II: Revenge</td>\n",
       "      <td>Grizzly II: The Predator</td>\n",
       "      <td>0</td>\n",
       "      <td>2020</td>\n",
       "      <td>NaN</td>\n",
       "      <td>74</td>\n",
       "      <td>Horror,Music,Thriller</td>\n",
       "    </tr>\n",
       "  </tbody>\n",
       "</table>\n",
       "</div>"
      ],
      "text/plain": [
       "      tconst titleType                                       primaryTitle  \\\n",
       "0  tt0035423     movie                                     Kate & Leopold   \n",
       "1  tt0062336     movie  The Tango of the Widower and Its Distorting Mi...   \n",
       "2  tt0069049     movie                         The Other Side of the Wind   \n",
       "3  tt0088751     movie                                  The Naked Monster   \n",
       "4  tt0093119     movie                                Grizzly II: Revenge   \n",
       "\n",
       "                               originalTitle  isAdult  startYear  endYear  \\\n",
       "0                             Kate & Leopold        0       2001      NaN   \n",
       "1  El Tango del Viudo y Su Espejo Deformante        0       2020      NaN   \n",
       "2                 The Other Side of the Wind        0       2018      NaN   \n",
       "3                          The Naked Monster        0       2005      NaN   \n",
       "4                   Grizzly II: The Predator        0       2020      NaN   \n",
       "\n",
       "   runtimeMinutes                  genres  \n",
       "0             118  Comedy,Fantasy,Romance  \n",
       "1              70                   Drama  \n",
       "2             122                   Drama  \n",
       "3             100    Comedy,Horror,Sci-Fi  \n",
       "4              74   Horror,Music,Thriller  "
      ]
     },
     "execution_count": 25,
     "metadata": {},
     "output_type": "execute_result"
    }
   ],
   "source": [
    "# Open saved file and preview\n",
    "basics = pd.read_csv(\"Data/basics.csv.gz\", low_memory = False)\n",
    "basics.head()"
   ]
  }
 ],
 "metadata": {
  "kernelspec": {
   "display_name": "Python (dojo-env)",
   "language": "python",
   "name": "dojo-env"
  },
  "language_info": {
   "codemirror_mode": {
    "name": "ipython",
    "version": 3
   },
   "file_extension": ".py",
   "mimetype": "text/x-python",
   "name": "python",
   "nbconvert_exporter": "python",
   "pygments_lexer": "ipython3",
   "version": "3.7.12"
  },
  "toc": {
   "base_numbering": 1,
   "nav_menu": {},
   "number_sections": true,
   "sideBar": true,
   "skip_h1_title": false,
   "title_cell": "Table of Contents",
   "title_sidebar": "Contents",
   "toc_cell": false,
   "toc_position": {},
   "toc_section_display": true,
   "toc_window_display": false
  }
 },
 "nbformat": 4,
 "nbformat_minor": 5
}
