{
 "cells": [
  {
   "cell_type": "markdown",
   "id": "e84ba7cd",
   "metadata": {},
   "source": [
    "# Extract from TMDB\n",
    "* There is no financial information included in the [IMDB data](https://github.com/adeviney/how-to-make-a-successful-movie/blob/main/Data%20Import%20and%20Preprocessing.ipynb) (e.g. budget or revenue). \n",
    "- This will be a major roadblock when attempting to analyze which movies are successful and must be addressed before I will be able to determine which movies are successful.\n",
    "* The Movie Database (TMDB) is great source of financial data (https://www.themoviedb.org/) and offers a free API for programmatic access to their data!\n",
    "* My stakeholder wants me to extract the budget, revenue, and MPAA Rating (G/PG/PG-13/R), which is also called \"Certification\".\n",
    "\n",
    "## Specifications\n",
    "* My stakeholder would like me to extract and save the results for movies that meet all of the criteria established in the [first part of the project](https://github.com/adeviney/how-to-make-a-successful-movie/blob/main/Data%20Import%20and%20Preprocessing.ipynb). \n",
    "\n",
    "* As a proof-of-concept, they requested I perform a test extraction of movies that started in 2000 or 2001\n",
    "\n",
    "* Each year should be saved as a separate .csv.gz file"
   ]
  },
  {
   "cell_type": "code",
   "execution_count": 1,
   "id": "a0c38ad1",
   "metadata": {},
   "outputs": [],
   "source": [
    "# Imports\n",
    "import numpy as np\n",
    "import pandas as pd\n",
    "import os, json, math, time\n",
    "import tmdbsimple as tmdb\n",
    "from tqdm.notebook import tqdm_notebook"
   ]
  },
  {
   "cell_type": "code",
   "execution_count": 2,
   "id": "3b53f26a",
   "metadata": {},
   "outputs": [
    {
     "data": {
      "text/plain": [
       "['.ipynb_checkpoints',\n",
       " 'akas.csv',\n",
       " 'akas.csv.gz',\n",
       " 'basics.csv',\n",
       " 'basics.csv.gz',\n",
       " 'final.csv.gz',\n",
       " 'final_tmdb_data_2000.csv.gz',\n",
       " 'final_tmdb_data_2001.csv.gz',\n",
       " 'final_tmdb_data_2002.csv.gz',\n",
       " 'final_tmdb_data_2003.csv.gz',\n",
       " 'final_tmdb_data_2004.csv.gz',\n",
       " 'final_tmdb_data_2005.csv.gz',\n",
       " 'final_tmdb_data_2006.csv.gz',\n",
       " 'final_tmdb_data_2007.csv.gz',\n",
       " 'final_tmdb_data_2008.csv.gz',\n",
       " 'final_tmdb_data_2009.csv.gz',\n",
       " 'final_tmdb_data_2010.csv.gz',\n",
       " 'final_tmdb_data_2011.csv.gz',\n",
       " 'final_tmdb_data_2012.csv.gz',\n",
       " 'final_tmdb_data_2013.csv.gz',\n",
       " 'final_tmdb_data_2014.csv.gz',\n",
       " 'final_tmdb_data_2015.csv.gz',\n",
       " 'final_tmdb_data_2016.csv.gz',\n",
       " 'final_tmdb_data_2017.csv.gz',\n",
       " 'final_tmdb_data_2018.csv.gz',\n",
       " 'final_tmdb_data_2019.csv.gz',\n",
       " 'final_tmdb_data_2020.csv.gz',\n",
       " 'final_tmdb_data_2021.csv.gz',\n",
       " 'ratings.csv',\n",
       " 'ratings.csv.gz',\n",
       " 'tmdb_2000_2001_results_combined.csv.gz',\n",
       " 'tmdb_api_results_2000.json',\n",
       " 'tmdb_api_results_2001.json',\n",
       " 'tmdb_api_results_2002.json',\n",
       " 'tmdb_api_results_2003.json',\n",
       " 'tmdb_api_results_2004.json',\n",
       " 'tmdb_api_results_2005.json',\n",
       " 'tmdb_api_results_2006.json',\n",
       " 'tmdb_api_results_2007.json',\n",
       " 'tmdb_api_results_2008.json',\n",
       " 'tmdb_api_results_2009.json',\n",
       " 'tmdb_api_results_2010.json',\n",
       " 'tmdb_api_results_2011.json',\n",
       " 'tmdb_api_results_2012.json',\n",
       " 'tmdb_api_results_2013.json',\n",
       " 'tmdb_api_results_2014.json',\n",
       " 'tmdb_api_results_2015.json',\n",
       " 'tmdb_api_results_2016.json',\n",
       " 'tmdb_api_results_2017.json',\n",
       " 'tmdb_api_results_2018.json',\n",
       " 'tmdb_api_results_2019.json',\n",
       " 'tmdb_api_results_2020.json',\n",
       " 'tmdb_api_results_2021.json',\n",
       " 'tmdb_results_combined.csv.gz']"
      ]
     },
     "execution_count": 2,
     "metadata": {},
     "output_type": "execute_result"
    }
   ],
   "source": [
    "# designate a folder to save information\n",
    "FOLDER = \"Data/\"\n",
    "os.makedirs(FOLDER, exist_ok=True)\n",
    "os.listdir(FOLDER)"
   ]
  },
  {
   "cell_type": "code",
   "execution_count": 3,
   "id": "2970652d",
   "metadata": {},
   "outputs": [],
   "source": [
    "# define the years to retrieve\n",
    "YEARS_TO_GET = [2000, 2001]#list(range(2002, 2022))"
   ]
  },
  {
   "cell_type": "code",
   "execution_count": 4,
   "id": "e3150116",
   "metadata": {},
   "outputs": [
    {
     "data": {
      "text/plain": [
       "dict_keys(['api-key'])"
      ]
     },
     "execution_count": 4,
     "metadata": {},
     "output_type": "execute_result"
    }
   ],
   "source": [
    "with open('/Users/Alexis/.secret/tmdb_api.json', 'r') as f:\n",
    "    login = json.load(f)\n",
    "## Display the keys of the loaded dict\n",
    "login.keys()"
   ]
  },
  {
   "cell_type": "code",
   "execution_count": 5,
   "id": "0a5328c4",
   "metadata": {},
   "outputs": [],
   "source": [
    "import tmdbsimple as tmdb\n",
    "tmdb.API_KEY =  login['api-key']"
   ]
  },
  {
   "cell_type": "markdown",
   "id": "ebe3ce9c",
   "metadata": {},
   "source": [
    "## Define custom functions"
   ]
  },
  {
   "cell_type": "code",
   "execution_count": 6,
   "id": "27dc697e",
   "metadata": {},
   "outputs": [],
   "source": [
    "def get_movie_with_rating(movie_id):\n",
    "    \"\"\"\n",
    "    Using tmdbsimple wrapper Python package for TMDB API, most of the data for \n",
    "    a movie can be extracted by running the info() method on a movie object.\n",
    "    However, the certification MPAA rating is not\n",
    "    The following function will add the MPAA rating of to the dictionary results\n",
    "    from movie.info() - only if the movie is the US\n",
    "\n",
    "    Parameters\n",
    "        ----------\n",
    "        movie_id : string\n",
    "             a tconst, an alphanumeric unique identifier of the title, from IMDB\n",
    "\n",
    "    Returns\n",
    "        -------\n",
    "        dict\n",
    "            the info dict returned from tmdbsimple filtered to only contain \n",
    "            revenue, budget, MPAA rating, and imdb_id\n",
    "\n",
    "    Examples\n",
    "        --------\n",
    "        >>> get_movie_with_rating(\"tt0848228\")\n",
    "        {'adult': False,\n",
    "        'backdrop_path': '/nNmJRkg8wWnRmzQDe2FwKbPIsJV.jpg',\n",
    "        'belongs_to_collection': {'id': 86311,\n",
    "        'name': 'The Avengers Collection',\n",
    "        ...\n",
    "        'title': 'The Avengers',\n",
    "        'video': False,\n",
    "        'vote_average': 7.7,\n",
    "        'vote_count': 26757,\n",
    "        'certification': 'PG-13'\n",
    "        }   \n",
    "    \"\"\"\n",
    "    movie = tmdb.Movies(movie_id)\n",
    "    # save the .info .releases dictionaries\n",
    "    info = movie.info()\n",
    "    releases = movie.releases()\n",
    "    # Loop through countries in releases\n",
    "    for c in releases['countries']:\n",
    "        # if the country abbreviation==US\n",
    "        if c['iso_3166_1'] =='US':\n",
    "            ## save a \"certification\" key in the info dict with the certification\n",
    "           info['certification'] = c['certification']\n",
    "    return info"
   ]
  },
  {
   "cell_type": "code",
   "execution_count": 7,
   "id": "d0b22c0f",
   "metadata": {},
   "outputs": [],
   "source": [
    "def write_json(new_data, filename): \n",
    "    \"\"\"Adapted from: https://www.geeksforgeeks.org/append-to-json-file-using-python/\"\"\"    \n",
    "    \n",
    "    with open(filename,'r+') as file:\n",
    "        # First we load existing data into a dict.\n",
    "        file_data = json.load(file)\n",
    "        ## Choose extend or append\n",
    "        if (type(new_data) == list) & (type(file_data) == list):\n",
    "            file_data.extend(new_data)\n",
    "        else:\n",
    "             file_data.append(new_data)\n",
    "        # Sets file's current position at offset.\n",
    "        file.seek(0)\n",
    "        # convert back to json.\n",
    "        json.dump(file_data, file)"
   ]
  },
  {
   "cell_type": "markdown",
   "id": "290e1842",
   "metadata": {},
   "source": [
    "## Extraction"
   ]
  },
  {
   "cell_type": "code",
   "execution_count": 8,
   "id": "f5c50499",
   "metadata": {},
   "outputs": [
    {
     "data": {
      "application/vnd.jupyter.widget-view+json": {
       "model_id": "3e7fa5d0259c4a74a071ad4fe3ed840b",
       "version_major": 2,
       "version_minor": 0
      },
      "text/plain": [
       "YEARS:   0%|          | 0/2 [00:00<?, ?it/s]"
      ]
     },
     "metadata": {},
     "output_type": "display_data"
    },
    {
     "data": {
      "application/vnd.jupyter.widget-view+json": {
       "model_id": "f0b6d9167c0d44c79d4b809a6da542cb",
       "version_major": 2,
       "version_minor": 0
      },
      "text/plain": [
       "Movies from 2000:   0%|          | 0/209 [00:00<?, ?it/s]"
      ]
     },
     "metadata": {},
     "output_type": "display_data"
    },
    {
     "data": {
      "application/vnd.jupyter.widget-view+json": {
       "model_id": "db3b9fc2122544548e20c90276c5c7ba",
       "version_major": 2,
       "version_minor": 0
      },
      "text/plain": [
       "Movies from 2001:   0%|          | 0/242 [00:00<?, ?it/s]"
      ]
     },
     "metadata": {},
     "output_type": "display_data"
    }
   ],
   "source": [
    "# Load in the dataframe from project part 1 as basics:\n",
    "basics = pd.read_csv('Data/basics.csv')\n",
    "\n",
    "for YEAR in tqdm_notebook(YEARS_TO_GET,desc='YEARS',position=0):\n",
    "    #Defining the JSON file to store results for year\n",
    "    JSON_FILE = f'{FOLDER}tmdb_api_request_{YEAR}.json'\n",
    "    \n",
    "    # Check if file exists\n",
    "    file_exists = os.path.isfile(JSON_FILE)\n",
    "    # If it does not exist: create it\n",
    "    if file_exists == False:\n",
    "    # save an empty dict with just \"imdb_id\" to the new json file.\n",
    "        with open(JSON_FILE,'w') as f:\n",
    "            json.dump([{'imdb_id':0}],f)\n",
    "    \n",
    "    #Saving new year as the current df\n",
    "    df = basics.loc[basics['startYear']==YEAR].copy()\n",
    "    # saving movie ids to pandas Series\n",
    "    movie_ids = df['tconst'].copy()\n",
    "    \n",
    "    # Load existing data from json into a dataframe called \"previous_df\"\n",
    "    previous_df = pd.read_json(JSON_FILE)\n",
    "    # filter out any ids that are already in the JSON_FILE\n",
    "    movie_ids_to_get = movie_ids[~movie_ids.isin(previous_df['imdb_id'])]\n",
    "    \n",
    "    #Get index and movie id from list\n",
    "    for movie_id in tqdm_notebook(movie_ids_to_get,\n",
    "                                  desc=f'Movies from {YEAR}',\n",
    "                                  position=1,\n",
    "                                  leave=True):\n",
    "        # Attempt to retrieve then data for the movie id\n",
    "        try:\n",
    "            temp = get_movie_with_rating(movie_id)  \n",
    "            # Append/extend results to existing file using a pre-made function\n",
    "            write_json(temp,JSON_FILE)\n",
    "            # Short 20 ms sleep to prevent overwhelming server\n",
    "            time.sleep(0.02)\n",
    "            \n",
    "        # If it fails,  make a dict with just the id and None for certification.\n",
    "        except Exception as e:\n",
    "            write_json({'budget': 0, 'revenue': 0, 'imdb_id': movie_id,\n",
    "                        'certification': 'None'}, JSON_FILE)\n",
    "            continue\n",
    "    final_year_df = pd.read_json(JSON_FILE)\n",
    "    final_year_df.to_csv(f\"{FOLDER}final_tmdb_data_{YEAR}.csv.gz\", compression=\"gzip\", index=False) "
   ]
  }
 ],
 "metadata": {
  "kernelspec": {
   "display_name": "Python (dojo-env)",
   "language": "python",
   "name": "dojo-env"
  },
  "language_info": {
   "codemirror_mode": {
    "name": "ipython",
    "version": 3
   },
   "file_extension": ".py",
   "mimetype": "text/x-python",
   "name": "python",
   "nbconvert_exporter": "python",
   "pygments_lexer": "ipython3",
   "version": "3.7.12"
  },
  "toc": {
   "base_numbering": 1,
   "nav_menu": {},
   "number_sections": false,
   "sideBar": true,
   "skip_h1_title": false,
   "title_cell": "Table of Contents",
   "title_sidebar": "Contents",
   "toc_cell": false,
   "toc_position": {},
   "toc_section_display": true,
   "toc_window_display": true
  }
 },
 "nbformat": 4,
 "nbformat_minor": 5
}
