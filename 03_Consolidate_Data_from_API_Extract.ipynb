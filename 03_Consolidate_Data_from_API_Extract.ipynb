{
 "cells": [
  {
   "cell_type": "code",
   "execution_count": 2,
   "id": "5cfa6503",
   "metadata": {},
   "outputs": [],
   "source": [
    "import pandas as pd"
   ]
  },
  {
   "cell_type": "code",
   "execution_count": 21,
   "id": "125649aa",
   "metadata": {},
   "outputs": [],
   "source": [
    "YEARS_TO_GET = list(range(2002, 2022))"
   ]
  },
  {
   "cell_type": "code",
   "execution_count": 22,
   "id": "b141a68c",
   "metadata": {},
   "outputs": [],
   "source": [
    "# forgot to save csv file in Extract_from_TDMB.ipynb when extracting years 2002-2021\n",
    "for YEAR in YEARS_TO_GET:\n",
    "    final_df = pd.read_json(f\"Data/tmdb_api_results_{YEAR}.json\")\n",
    "    final_df.to_csv(f\"Data/final_tmdb_data_{YEAR}.csv.gz\", compression=\"gzip\", index=False)"
   ]
  },
  {
   "cell_type": "code",
   "execution_count": 29,
   "id": "dc3a826c",
   "metadata": {},
   "outputs": [],
   "source": [
    "# proof of concept, years 2000 and 2001\n",
    "# will first start with the dataframe from first year and concatenate additional years to it\n",
    "combined_df = pd.read_csv(\"Data/final_tmdb_data_2000.csv.gz\") \n",
    "YEARS_TO_GET = [2001]\n",
    "for YEAR in YEARS_TO_GET:\n",
    "    new_df = pd.read_csv(f\"Data/final_tmdb_data_{YEAR}.csv.gz\")\n",
    "    combined_df = pd.concat([combined_df, new_df])"
   ]
  },
  {
   "cell_type": "code",
   "execution_count": 30,
   "id": "ff3cef49",
   "metadata": {},
   "outputs": [],
   "source": [
    "combined_df.to_csv(\"Data/tmdb_2000_2001_results_combined.csv.gz\", compression=\"gzip\", index=False)\n",
    "# this was requested as a proof of concept"
   ]
  },
  {
   "cell_type": "code",
   "execution_count": 31,
   "id": "b7e04acb",
   "metadata": {},
   "outputs": [],
   "source": [
    "# now to add the data from the remaining years\n",
    "YEARS_TO_GET = list(range(2002, 2022))\n",
    "for YEAR in YEARS_TO_GET:\n",
    "    new_df = pd.read_csv(f\"Data/final_tmdb_data_{YEAR}.csv.gz\")\n",
    "    combined_df = pd.concat([combined_df, new_df])"
   ]
  },
  {
   "cell_type": "code",
   "execution_count": 35,
   "id": "d05f729f",
   "metadata": {},
   "outputs": [],
   "source": [
    "combined_df.to_csv(\"Data/tmdb_ALL_results_combined.csv.gz\", compression=\"gzip\", index=False)"
   ]
  }
 ],
 "metadata": {
  "kernelspec": {
   "display_name": "Python (dojo-env)",
   "language": "python",
   "name": "dojo-env"
  },
  "language_info": {
   "codemirror_mode": {
    "name": "ipython",
    "version": 3
   },
   "file_extension": ".py",
   "mimetype": "text/x-python",
   "name": "python",
   "nbconvert_exporter": "python",
   "pygments_lexer": "ipython3",
   "version": "3.7.12"
  },
  "toc": {
   "base_numbering": 1,
   "nav_menu": {},
   "number_sections": true,
   "sideBar": true,
   "skip_h1_title": false,
   "title_cell": "Table of Contents",
   "title_sidebar": "Contents",
   "toc_cell": false,
   "toc_position": {},
   "toc_section_display": true,
   "toc_window_display": false
  }
 },
 "nbformat": 4,
 "nbformat_minor": 5
}
